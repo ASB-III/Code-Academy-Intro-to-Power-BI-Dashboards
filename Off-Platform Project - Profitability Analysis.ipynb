{
 "cells": [
  {
   "cell_type": "markdown",
   "metadata": {},
   "source": [
    "# Off-Platform Project: Profitability Analysis\n",
    "### Create a Data Story from Scratch\n",
    "\n",
    "Are you ready to create a data story for yourself? Well, we have a use case that will help you to do just that. Let’s get started!\n",
    "\n",
    "# The Brief\n",
    "Hardik, your company’s Head of Finance, has requested some metrics on the performance of The Everything Company’s product lines. Hardik wants to identify a few areas that can improve — she has some concerns that there are areas where the company may be losing money. She wants a report by Monday morning with recommendations. She sends you a[ dataset with product line information](https://static-assets.codecademy.com/Courses/bi-dashboards-power-bi/project/e-commerce-data.zip).\n",
    "\n",
    "# Data Story Definition\n",
    "Now that Hardik has given you this request, you can get started. You need to first start by defining the objectives and KPIs for the analysis. These will serve as the foundation for the analysis. After speaking with Hardik, you came up with the following:\n",
    "\n",
    "# Data Story Objectives"
   ]
  },
  {
   "cell_type": "markdown",
   "metadata": {},
   "source": [
    "Objective|Users|Actions|Usage Frequency\n",
    "---|---|---|---\n",
    "Describe the goals this Dashboard/Story will be used to address|Describe what types of users will be accessing the Dashboard/Story|Describe the actions that users will take after looking at this Dashboard/Story|Describe how often users will be accessing this Dashboard/Story|Review current product lines and identify areas for improvement|Head of Finance|*Identify areas that can improve revenue *Identify low-performing products and regions|Monthly"
   ]
  },
  {
   "cell_type": "markdown",
   "metadata": {},
   "source": [
    "# Key Performance Indicators (KPIs)"
   ]
  },
  {
   "cell_type": "markdown",
   "metadata": {},
   "source": [
    "Name|Objective|Definition|Visual|Data Source\n",
    "---|---|---|---|---\n",
    "Define the KPI name|Define the objective of this KPI|Define how this KPI will be calculated|Define the preferred visualization methods for this KPI (Trend, Composition, etc)|Define what data source this KPI will be coming from Profit|Profit is the financial driver of the business|Profit|Trend, Composition, KPI|Order Details.csv Quantity|Quantity tells you how much volume is going through each area of the business|Units|KPI|Order Details.csv Order Volume|Order volume indicates the shipment volume in the warehouse|Distinct Count of Order Id|KPI|List of Orders.csv"
   ]
  },
  {
   "cell_type": "markdown",
   "metadata": {},
   "source": [
    "# Load and Transform Data\n",
    "Now that you have your objectives and KPIs defined, you can get started. Start by [downloading your dataset](https://www.kaggle.com/benroshan/ecommerce-data). Next, you need to open Power BI to load the dataset.\n",
    "\n",
    "# List of Orders File\n",
    "Since the data is in csv format, you will need to select “Text/CSV” from the “Get Data” dropdown, and select the “List of Orders.csv” file. Now you are brought to the preview screen, which allows you to review the data before loading it. Since this data is not exactly in the format that you need it in, you need to select “Transform Data” on the pop up."
   ]
  },
  {
   "cell_type": "markdown",
   "metadata": {},
   "source": [
    "![](https://static-assets.codecademy.com/Courses/bi-dashboards-power-bi/project/01-load-data-file.gif)"
   ]
  },
  {
   "cell_type": "markdown",
   "metadata": {},
   "source": [
    "Note: Throughout this project, you can click images to view them at a larger size in a separate tab.\n",
    "\n",
    "\n",
    "Once the Power Query editor has been opened, you need to do the following in order to clean the dataset:\n",
    "\n",
    "\n",
    "1. In the Home tab, select Transform > Use First Row as Headers.\n",
    "2. Select the ABC icon next to “Order Date”.\n",
    "3. Select “Using Locale”.\n",
    "4. Change data type to “Date” and select the “English (India)” option from the Locale dropdown.\n",
    "5. Select “Remove Rows” at the top under Reduce Rows and select “Remove Blank Rows”.\n",
    "6. Once completed, select “Close & Apply”."
   ]
  },
  {
   "cell_type": "markdown",
   "metadata": {},
   "source": [
    "![](https://static-assets.codecademy.com/Courses/bi-dashboards-power-bi/project/02-transform-list-of-orders-data-file.gif)"
   ]
  },
  {
   "cell_type": "markdown",
   "metadata": {},
   "source": [
    "# Order Details File\n",
    "With the list of orders loaded, you need to load one additional file. Select “Text/CSV” from the “Get Data” dropdown and select the “Order Details” file. This file does not need any transforming, so you can select “Transform Data” and then “Close & Apply” or you can simply select “Load”. Since the currency is already in the correct format, you do not need to adjust any formatting there."
   ]
  },
  {
   "cell_type": "markdown",
   "metadata": {},
   "source": [
    "![](https://static-assets.codecademy.com/Courses/bi-dashboards-power-bi/project/03-load-order-details-file.gif)"
   ]
  },
  {
   "cell_type": "markdown",
   "metadata": {},
   "source": [
    "# Format Data\n",
    "Once the data is loaded, there is another way to quickly modify and format data outside of Power Query. You can do this by going to the “Data” tab on the left side of the screen, and you can view a table of the data at any time. In this case, Profit is not in the exact format that we would like it to be in.\n",
    "\n",
    "You want the Amount and Profit fields to be formatted as currency so that when these are pulled into visualizations, they reflect the correct formatting. Doing this here will allow you to make the change once, and not have to worry about changing it again.\n",
    "\n",
    "To change this, do the following:\n",
    "\n",
    "- Select the “Order Details” file in the Fields section on the right.\n",
    "- Select the “Profit” column.\n",
    "- Under Column tools, select the Format dropdown and select “Currency”.\n",
    "\n",
    "\n",
    "This will now format this column as currency for all of the visualizations and tables you create. You take note of the fact that it’s pretty awesome that Power BI lets you format your column in one place and not every time you use it. (Phew!)\n",
    "\n"
   ]
  },
  {
   "cell_type": "markdown",
   "metadata": {},
   "source": [
    "![](https://static-assets.codecademy.com/Courses/bi-dashboards-power-bi/project/04-format-currency.gif)"
   ]
  },
  {
   "cell_type": "markdown",
   "metadata": {},
   "source": [
    "# Join Data\n",
    "Now that you have the data loaded, it is time to join the datasets together. To do this you need to go to the “Model” section on the left side of the screen. This will bring you to a screen where you will see the tables that have been loaded with the fields under them. Note that by default there may be a connection here, but this is not always guaranteed to be correct. It is Power BI’s best guess and you need to verify it.\n",
    "\n",
    "To add a new connection, you can move the “Order ID” field from “Order Details” to the “Order ID” field in the “List of Orders” table. This will create a connection. Since the “List of Orders” table has unique orders in it and the “Order Details” table has multiple rows for each order, the connection should be “One to Many”.\n",
    "\n",
    "You can also modify this connection by selecting “Properties” after selecting the connector and it will give you additional options. One recommended change is to adjust the “Cross filter direction” to “Both” so that whichever chart or filter you create, the data will still filter across the dataset the same way."
   ]
  },
  {
   "cell_type": "markdown",
   "metadata": {},
   "source": [
    "![](https://static-assets.codecademy.com/Courses/bi-dashboards-power-bi/project/05-join-data.gif)"
   ]
  },
  {
   "cell_type": "markdown",
   "metadata": {},
   "source": [
    "# Visualizing the Dataset\n",
    "For the Report that you will be creating, implementing a Z dashboard layout makes the most sense. Both the Z and F layouts could work here, but the Z layout makes use of the Gestalt Principle of having better closure and continuation. This is because you have:\n",
    "- KPIs that need to be shown\n",
    "- A few visualizations that support them\n",
    "- A few action items that will give the CFO some areas to focus on\n",
    "\n",
    "\n",
    "# KPIs Chart\n",
    "For the first section of the dashboard, you need to create some high-level KPIs. These will sit in the “Summary” section of the Z dashboard framework. You have 3 KPIs that were defined at the start of the project:\n",
    "- Profit\n",
    "- Quantity\n",
    "- Number of Orders"
   ]
  },
  {
   "cell_type": "markdown",
   "metadata": {},
   "source": [
    "![](https://static-assets.codecademy.com/Courses/bi-dashboards-power-bi/project/06-summary-section.png)"
   ]
  },
  {
   "cell_type": "markdown",
   "metadata": {},
   "source": [
    "# Multi-row Card Creation\n",
    "To create your Multi-row card:\n",
    "\n",
    "1. Select Multi-row card from the Visualizations section and move onto the report canvas.\n",
    "2. Select “Profit”, “Quantity” and “Order ID”.\n",
    "3. Select the dropdown on “Order ID” and change it to “Count Distinct”.\n",
    "4. Select “Rename for this visual” under the “Order ID” dropdown and change the title to “# of Orders”.\n",
    "5. Under “Format”, select “Card” and “Bottom only” in the Outline section. (Remember this is the Enclosure principle from the Gestalt principles!)\n",
    "6. Resize to take up the top header of the page."
   ]
  },
  {
   "cell_type": "markdown",
   "metadata": {},
   "source": [
    "![](https://static-assets.codecademy.com/Courses/bi-dashboards-power-bi/project/07-kpi-creation.gif)"
   ]
  },
  {
   "cell_type": "markdown",
   "metadata": {},
   "source": [
    "# Profit Trend Chart\n",
    "For the next section of the dashboard, you are going to create a trend of profit over time, broken down by category. This will help you to:\n",
    "\n",
    "- Bring some context to the KPIs\n",
    "- Help you begin to analyze the data"
   ]
  },
  {
   "cell_type": "markdown",
   "metadata": {},
   "source": [
    "![](https://static-assets.codecademy.com/Courses/bi-dashboards-power-bi/project/08-visualization-section.png)"
   ]
  },
  {
   "cell_type": "markdown",
   "metadata": {},
   "source": [
    "# Chart Setup\n",
    "To create your trend chart you will:\n",
    "\n",
    "1. Select the “Line and stacked column chart” from the Visualizations section.\n",
    "2. Move Order Date into the “Shared axis” section.\n",
    "3. Remove Day and Quarter.\n",
    "4. Move Category into Column Series.\n",
    "5. Move Profit into Line Values.\n",
    "6. Move Order ID into Column Values.\n",
    "7. Select “Expand all down one level in the hierarchy”."
   ]
  },
  {
   "cell_type": "markdown",
   "metadata": {},
   "source": [
    "![](https://static-assets.codecademy.com/Courses/bi-dashboards-power-bi/project/09-profit-trend-creation.gif)"
   ]
  },
  {
   "cell_type": "markdown",
   "metadata": {},
   "source": [
    "# Format Trend Chart\n",
    "Next you will need to make some adjustments to the formatting to make this chart look a little nicer. In order to do this, you will:\n",
    "\n",
    "1. Select “Format”.\n",
    "2. Select “X axis”.\n",
    "3. Turn off “Concatenate labels” and “Title”.\n",
    "4. Select the title section, and rename the chart “Orders vs. Profit by Category”."
   ]
  },
  {
   "cell_type": "markdown",
   "metadata": {},
   "source": [
    "![](https://static-assets.codecademy.com/Courses/bi-dashboards-power-bi/project/10-format-profit-trend.gif)"
   ]
  },
  {
   "cell_type": "markdown",
   "metadata": {},
   "source": [
    "# Profit by Category Chart\n",
    "Now that you have your main visualization created, you need to bring some context to the visualization. This is important because the intended audience will be using this analysis to take action. After all, reports and dashboards really aren’t too useful unless they are actionable, right?\n",
    "\n",
    "You will do this by creating a heatmap which will break down the categories and sub-categories. Using a heatmap will allow you to quickly identify the categories and sub-categories that stand out at a glance."
   ]
  },
  {
   "cell_type": "markdown",
   "metadata": {},
   "source": [
    "![](https://static-assets.codecademy.com/Courses/bi-dashboards-power-bi/project/11-details-section.png)"
   ]
  },
  {
   "cell_type": "markdown",
   "metadata": {},
   "source": [
    "# Chart Setup\n",
    "To create your heatmap:\n",
    "\n",
    "- Select the Matrix chart type from the Visualizations area.\n",
    "- Move “Sub-Category” to the Rows section.\n",
    "- Move “Category” to the Columns section.\n",
    "- Move “Profit” to the values section.\n",
    "- Resize so you can see all of the items in the chart."
   ]
  },
  {
   "cell_type": "markdown",
   "metadata": {},
   "source": [
    "![](https://static-assets.codecademy.com/Courses/bi-dashboards-power-bi/project/12-profit-by-category.gif)"
   ]
  },
  {
   "cell_type": "markdown",
   "metadata": {},
   "source": [
    "# Format Matrix Chart\n",
    "Next you will need to make some adjustments to the formatting so that you can turn this matrix into a heatmap. In order to do this:\n",
    "\n",
    "- Select Format.\n",
    "- Turn Title on (Toggle to “On”).\n",
    "- Name the chart “Profit by Sub Category”.\n",
    "- Go to Conditional Formatting and turn Background Color on.\n",
    "- Select on Advanced controls.\n",
    "- Change the “Based on field” is the “Sum of Profit”.\n",
    "- Change the Minimum color to red.\n",
    "- Select Diverging.\n",
    "- Change the center color to be white.\n",
    "- Change the center to be custom, and enter “0”.\n",
    "- Select OK."
   ]
  },
  {
   "cell_type": "markdown",
   "metadata": {},
   "source": [
    "![](https://static-assets.codecademy.com/Courses/bi-dashboards-power-bi/project/13-formatting-profit-by-category.gif)"
   ]
  },
  {
   "cell_type": "markdown",
   "metadata": {},
   "source": [
    "# Profitability by Customer Chart\n",
    "Now that you have some context for what has happened in the dataset, you need to create some actionable views that you can start to identify areas for improvement.\n",
    "\n",
    "The first of these will be analyzing which customers are affecting profitability and which are not. A scatter chart is a great way to visualize a lot of data points at once and allows you to identify any outliers in the data set that should be addressed. Scatter charts also look really great on reports and are a lot more interactive and entertaining than boring pivot tables!"
   ]
  },
  {
   "cell_type": "markdown",
   "metadata": {},
   "source": [
    "![](https://static-assets.codecademy.com/Courses/bi-dashboards-power-bi/project/14-actionable-list-section.png)"
   ]
  },
  {
   "cell_type": "markdown",
   "metadata": {},
   "source": [
    "# Chart Setup\n",
    "To create your scatter chart:\n",
    "\n",
    "- Select the “scatter chart” chart type.\n",
    "- Move “Customer Name” to Details.\n",
    "- Move “Amount” to the X axis.\n",
    "- Move “Profit” to the Y axis."
   ]
  },
  {
   "cell_type": "markdown",
   "metadata": {},
   "source": [
    "![](https://static-assets.codecademy.com/Courses/bi-dashboards-power-bi/project/15-profit-by-customer.gif)"
   ]
  },
  {
   "cell_type": "markdown",
   "metadata": {},
   "source": [
    "# Format Scatter Chart\n",
    "The chart is already pulling out some valuable information, but you really need to make the unprofitable customers stand out from the profitable ones. In order to do this, you will:\n",
    "\n",
    "1. Select Format.\n",
    "2. Turn Title on.\n",
    "3. Rename the chart to “Profit by Customer”.\n",
    "4. Select Data Colors.\n",
    "5. Select the fx icon.\n",
    "6. Change the Based on field to be “Sum of Profit”.\n",
    "7. Change the Minimum color to be red.\n",
    "8. Change the Minimum value to be Custom and “-1”.\n",
    "9. Change the Maximum value to be Custom and “1”."
   ]
  },
  {
   "cell_type": "markdown",
   "metadata": {},
   "source": [
    "![](https://static-assets.codecademy.com/Courses/bi-dashboards-power-bi/project/16-format-profit-by-customer.gif)"
   ]
  },
  {
   "cell_type": "markdown",
   "metadata": {},
   "source": [
    "# Profit by State Chart\n",
    "The final view that you need to create is a breakdown of the profitability across the different states. This will help you and the Head of Finance to further understand why certain areas are performing the way that they have. Location-based analysis is a great way to help end users to begin to conceptualize where they can make improvements, which usually leads to quicker results.\n",
    "\n",
    "# Chart Setup\n",
    "To create your scatter chart:\n",
    "\n",
    "1. Select the “tree map” chart type.\n",
    "2. Move “Profit” to the tooltips section.\n",
    "3. Move “Amount” to the Values section.\n",
    "4. Move “State” to the Group section."
   ]
  },
  {
   "cell_type": "markdown",
   "metadata": {},
   "source": [
    "![](https://static-assets.codecademy.com/Courses/bi-dashboards-power-bi/project/17-profit-by-state.gif)"
   ]
  },
  {
   "cell_type": "markdown",
   "metadata": {},
   "source": [
    "# Format Tree Map\n",
    "For this chart, the goal is to format the tiles in such a way that it is easy for the Head of Finance to understand which states are profitable and which ones are not. Colors are a great way to call out data points that are really interesting! In order to do this:\n",
    "\n",
    "1. Select Format.\n",
    "2. Select Data colors.\n",
    "3. Select Advanced controls.\n",
    "4. Ensure that the Based on field is “Sum of Profit”.\n",
    "5. Change the Minimum color to be red.\n",
    "6. Select Diverging.\n",
    "7. Change the Center to Custom and “0”.\n",
    "8. Select OK."
   ]
  },
  {
   "cell_type": "markdown",
   "metadata": {},
   "source": [
    "![](https://static-assets.codecademy.com/Courses/bi-dashboards-power-bi/project/18-format-profit-by-state.gif)"
   ]
  },
  {
   "cell_type": "markdown",
   "metadata": {},
   "source": [
    "# Additional Insights\n",
    "Now that you have your basic report put together, it is time to add some additional insights to the report so that if Hardik (the Head of Finance) has questions, she has the ability to interact with the data within the report. Lucky for you, Power BI has some very cool analytics built into its stock offering. You are going to add a few of these in order to give end users some additional options to do their own analysis while looking at the report.\n",
    "\n",
    "# Create Profit Insights Page\n",
    "First, you will create a new page so that you can give users a place to interact with the additional charts. To do this:\n",
    "\n",
    "1. Select the right click menu on “Page 1” and name it “Profit Analysis”.\n",
    "2. Select the “+” button at the bottom of the screen.\n",
    "3. Select the right click menu on the new page and name it “Profit Insights”."
   ]
  },
  {
   "cell_type": "markdown",
   "metadata": {},
   "source": [
    "![](https://static-assets.codecademy.com/Courses/bi-dashboards-power-bi/project/19-create-insights-page.gif)"
   ]
  },
  {
   "cell_type": "markdown",
   "metadata": {},
   "source": [
    "# Copy and Enhance Scatter Chart\n",
    "Next, you are going to copy over the scatter chart that we created on the first page and enhance it a little bit to give the Head of Finance more ability to interact and manipulate it. To do this:\n",
    "\n",
    "\n",
    "1. Select the Scatter chart on the Profit Analysis tab and copy with your keyboard.\n",
    "2. Go to the Profit Insights page and paste with your keyboard.\n",
    "3. Resize to take up the left third of the screen.\n",
    "4. Now move the Sub-Category to the Play Axis.\n",
    "\n",
    "\n",
    "Now, you can change the category by pressing the play button and visually see how each sub-category changes the values on the chart."
   ]
  },
  {
   "cell_type": "markdown",
   "metadata": {},
   "source": [
    "![](https://static-assets.codecademy.com/Courses/bi-dashboards-power-bi/project/20-profit-by-customer-play-axis.gif)"
   ]
  },
  {
   "cell_type": "markdown",
   "metadata": {},
   "source": [
    "# Key Influencers Chart\n",
    "Next, you are going to use the Key Influencers chart to give the Head of Finance some additional insights into the data. This chart type really helps you to understand what is driving the metric that you are interested in. These are also precisely what someone in the role of Head of Finance would be looking for. Besides, this gives your dashboard a major WOW factor and a super cool feature the end users can play with!\n",
    "\n",
    "To add this:\n",
    "\n",
    "1. Select the Key Influencers chart type.\n",
    "2. Resize to about a third of the screen.\n",
    "3. Move Amount to the Analyze section.\n",
    "4. Move Category and Sub-Category to the Explain By section."
   ]
  },
  {
   "cell_type": "markdown",
   "metadata": {},
   "source": [
    "![](https://static-assets.codecademy.com/Courses/bi-dashboards-power-bi/project/21-key-influencers.gif)"
   ]
  },
  {
   "cell_type": "markdown",
   "metadata": {},
   "source": [
    "# Q&A Chart\n",
    "One of the other very exciting features of Power BI is the Q&A chart. This chart allows users to ask the data questions directly on the dashboard and do their own ad hoc analysis and find out what they are interested in. This is a SUPER useful tool for business users, so if you are wondering if you should add this to your reports in the future, the answer is almost always YES!\n",
    "\n",
    "To do this:\n",
    "\n",
    "1. Select the Q&A chart type.\n",
    "2. Resize to be about the last third of the report."
   ]
  },
  {
   "cell_type": "markdown",
   "metadata": {},
   "source": [
    "![](https://static-assets.codecademy.com/Courses/bi-dashboards-power-bi/project/22-qa.gif)"
   ]
  },
  {
   "cell_type": "markdown",
   "metadata": {},
   "source": [
    "# Final Touches (Slicers and Filters)\n",
    "Now that you have the report prepared with some amazing insights, the last thing to do is to add some slicers and filters, so that end users can effectively play with the report.\n",
    "\n",
    "# Add Date Slicer\n",
    "First, you will add a date slicer on the Profit Analysis page. To do this:\n",
    "\n",
    "1. Select the Slicer chart type.\n",
    "2. Move Order Date into the Field section.\n",
    "3. Resize so it fits properly at the top of the page without overlapping any other charts.\n",
    "\n",
    "# Add Filters\n",
    "Lastly, you will need to add filters to the report page so the Head of Finance can filter without the filters cluttering up the dashboard. To do this:\n",
    "\n",
    "- Select City and move to the “Filters on this page” section.\n",
    "- Select Customer Name and move to the “Filters on this page” section.\n",
    "- Select State and move to the “Filters on this page” section.\n",
    "- Select Category and move to the “Filters on this page” section.\n",
    "- Select Sub-Category and move to the “Filters on this page” section."
   ]
  },
  {
   "cell_type": "markdown",
   "metadata": {},
   "source": [
    "![](https://static-assets.codecademy.com/Courses/bi-dashboards-power-bi/project/23-slicers-and-filters.gif)"
   ]
  },
  {
   "cell_type": "markdown",
   "metadata": {},
   "source": [
    "# Results\n",
    "After looking at the data, you can answer some questions.\n",
    "\n",
    "Take a look at our answers here.\n",
    "# Recommendation\n",
    "After reviewing the analysis, add your recommended course of action.\n",
    "\n",
    "Take a look at our example recommendation here.\n",
    "# Congrats!\n",
    "You’ve created a Power BI Report from scratch! Want to take a look at how your report stacks up? We have an [example solution for you.](https://static-assets.codecademy.com/Courses/bi-dashboards-power-bi/project/Power-BI-Project.pbix)\n",
    "\n",
    "# Dataset Acknowledgements\n",
    "This project used an [E-commerce Data dataset found on Kaggle](https://www.kaggle.com/benroshan/ecommerce-data). More information concerning the license and origins can be found there."
   ]
  }
 ],
 "metadata": {
  "interpreter": {
   "hash": "126de395fc5ab05c9b404d5156ac230f2dc2d73638f7037ba66d30fa539ce6ef"
  },
  "kernelspec": {
   "display_name": "Python 3.10.1 64-bit",
   "language": "python",
   "name": "python3"
  },
  "language_info": {
   "name": "python",
   "version": "3.10.1"
  },
  "orig_nbformat": 4
 },
 "nbformat": 4,
 "nbformat_minor": 2
}
